{
 "cells": [
  {
   "cell_type": "code",
   "execution_count": 1,
   "metadata": {},
   "outputs": [],
   "source": [
    "from sklearn.tree import DecisionTreeRegressor\n",
    "from sklearn.metrics import mean_squared_error"
   ]
  },
  {
   "cell_type": "code",
   "execution_count": 115,
   "metadata": {},
   "outputs": [],
   "source": [
    "%matplotlib inline"
   ]
  },
  {
   "cell_type": "markdown",
   "metadata": {},
   "source": [
    "### store 1, item 9에 대한 회귀분석"
   ]
  },
  {
   "cell_type": "code",
   "execution_count": 51,
   "metadata": {
    "scrolled": true
   },
   "outputs": [],
   "source": [
    "data = pd.read_csv('data/sample_df.csv')"
   ]
  },
  {
   "cell_type": "code",
   "execution_count": 52,
   "metadata": {
    "scrolled": true
   },
   "outputs": [
    {
     "data": {
      "text/plain": [
       "Index(['date', 'item_nbr', 'logunits', 'store_nbr', 'units', 'station_nbr',\n",
       "       'tmax', 'tmin', 'tavg', 'depart', 'dewpoint', 'wetbulb', 'heat', 'cool',\n",
       "       'sunrise', 'sunset', 'codesum', 'snowfall', 'preciptotal',\n",
       "       'stnpressure', 'sealevel', 'resultspeed', 'resultdir', 'avgspeed',\n",
       "       'year', 'month', 'day', 'week', 'weekday', 'quarter', 'holiday',\n",
       "       'blackfriday', 'isholiday', 'isblackfriday'],\n",
       "      dtype='object')"
      ]
     },
     "execution_count": 52,
     "metadata": {},
     "output_type": "execute_result"
    }
   ],
   "source": [
    "data.columns"
   ]
  },
  {
   "cell_type": "code",
   "execution_count": null,
   "metadata": {},
   "outputs": [],
   "source": []
  },
  {
   "cell_type": "code",
   "execution_count": 57,
   "metadata": {},
   "outputs": [],
   "source": [
    "data = data[data['units'].notna()]"
   ]
  },
  {
   "cell_type": "code",
   "execution_count": 58,
   "metadata": {},
   "outputs": [],
   "source": [
    "w_col = ['tmax', 'tmin', 'tavg', 'depart', 'dewpoint', 'wetbulb', 'heat', 'cool',\\\n",
    "'snowfall', 'preciptotal','stnpressure', 'sealevel', 'resultspeed', 'resultdir', 'avgspeed',]"
   ]
  },
  {
   "cell_type": "code",
   "execution_count": 59,
   "metadata": {},
   "outputs": [],
   "source": [
    "dfX = data.filter(w_col)\n",
    "dfy = data.filter(['units'])"
   ]
  },
  {
   "cell_type": "code",
   "execution_count": null,
   "metadata": {},
   "outputs": [],
   "source": []
  },
  {
   "cell_type": "markdown",
   "metadata": {},
   "source": [
    "### ExtraTreesClassifier 독립변수 중요도 파악"
   ]
  },
  {
   "cell_type": "code",
   "execution_count": 112,
   "metadata": {},
   "outputs": [
    {
     "name": "stderr",
     "output_type": "stream",
     "text": [
      "/usr/local/lib/python3.6/site-packages/ipykernel_launcher.py:3: DataConversionWarning: A column-vector y was passed when a 1d array was expected. Please change the shape of y to (n_samples,), for example using ravel().\n",
      "  This is separate from the ipykernel package so we can avoid doing imports until\n"
     ]
    },
    {
     "name": "stdout",
     "output_type": "stream",
     "text": [
      "[0.07601909 0.07548888 0.06873956 0.08160384 0.07641916 0.0723895\n",
      " 0.05378206 0.02585628 0.02816513 0.04950458 0.07746286 0.07873216\n",
      " 0.07872911 0.07742545 0.07968235]\n"
     ]
    }
   ],
   "source": [
    "from sklearn.ensemble import ExtraTreesClassifier\n",
    "model = ExtraTreesClassifier(n_estimators=250, random_state=0)\n",
    "model.fit(dfX, dfy)\n",
    "print(model.feature_importances_)"
   ]
  },
  {
   "cell_type": "code",
   "execution_count": 113,
   "metadata": {},
   "outputs": [],
   "source": [
    "importances = model.feature_importances_\n",
    "\n",
    "std = np.std([tree.feature_importances_ for tree in model.estimators_], axis=0)\n",
    "indices = np.argsort(importances)[::-1]"
   ]
  },
  {
   "cell_type": "code",
   "execution_count": 116,
   "metadata": {},
   "outputs": [
    {
     "name": "stdout",
     "output_type": "stream",
     "text": [
      "Feature ranking:\n",
      "1. feature 3 depart (0.081604)\n",
      "2. feature 14 avgspeed (0.079682)\n",
      "3. feature 11 sealevel (0.078732)\n",
      "4. feature 12 resultspeed (0.078729)\n",
      "5. feature 10 stnpressure (0.077463)\n",
      "6. feature 13 resultdir (0.077425)\n",
      "7. feature 4 dewpoint (0.076419)\n",
      "8. feature 0 tmax (0.076019)\n",
      "9. feature 1 tmin (0.075489)\n",
      "10. feature 5 wetbulb (0.072389)\n",
      "11. feature 2 tavg (0.068740)\n",
      "12. feature 6 heat (0.053782)\n",
      "13. feature 9 preciptotal (0.049505)\n",
      "14. feature 8 snowfall (0.028165)\n",
      "15. feature 7 cool (0.025856)\n"
     ]
    },
    {
     "data": {
      "image/png": "[encoded data removed]",
      "text/plain": [
       "<Figure size 1440x216 with 1 Axes>"
      ]
     },
     "metadata": {},
     "output_type": "display_data"
    }
   ],
   "source": [
    "fr = dfX.columns[np.argsort(model.feature_importances_)[::-1]].values.tolist()\n",
    "print(\"Feature ranking:\")\n",
    "for f in range(dfX.shape[1]):\n",
    "    print(\"%d. feature %d %s (%f)\" % (f + 1, indices[f], fr[f], importances[indices[f]]))\n",
    "    \n",
    "plt.figure(figsize=(20, 3))\n",
    "plt.title(\"Feature importances\")\n",
    "plt.bar(range(dfX.shape[1]), importances[indices], color=\"r\", yerr=std[indices], align=\"center\")\n",
    "#plt.xticks(range(dfX.shape[1]), indices)\n",
    "plt.xticks(range(dfX.shape[1]), fr)\n",
    "plt.xlim([-1, dfX.shape[1]])\n",
    "plt.show()"
   ]
  },
  {
   "cell_type": "code",
   "execution_count": null,
   "metadata": {},
   "outputs": [],
   "source": [
    "# depart, avgspeed, sealevel"
   ]
  },
  {
   "cell_type": "markdown",
   "metadata": {},
   "source": [
    "### LogisticRegression 사용하여 중요변수 파악"
   ]
  },
  {
   "cell_type": "code",
   "execution_count": 117,
   "metadata": {},
   "outputs": [
    {
     "name": "stderr",
     "output_type": "stream",
     "text": [
      "/usr/local/lib/python3.6/site-packages/sklearn/utils/validation.py:578: DataConversionWarning: A column-vector y was passed when a 1d array was expected. Please change the shape of y to (n_samples, ), for example using ravel().\n",
      "  y = column_or_1d(y, warn=True)\n"
     ]
    },
    {
     "name": "stdout",
     "output_type": "stream",
     "text": [
      "Num Features: 3\n",
      "Selected Features: [False False False False False False False False  True False False False\n",
      "  True False  True]\n",
      "Feature Ranking: [11  9  7 12 10  8  6  3  1  2  4  5  1 13  1]\n"
     ]
    }
   ],
   "source": [
    "from sklearn.feature_selection import RFE\n",
    "from sklearn.linear_model import LogisticRegression\n",
    "# feature extraction\n",
    "model = LogisticRegression()\n",
    "rfe = RFE(model, 3)\n",
    "fit = rfe.fit(dfX, dfy)\n",
    "print((\"Num Features: %d\") % fit.n_features_)\n",
    "print((\"Selected Features: %s\") % fit.support_)\n",
    "print((\"Feature Ranking: %s\") % fit.ranking_)"
   ]
  },
  {
   "cell_type": "code",
   "execution_count": 118,
   "metadata": {},
   "outputs": [
    {
     "data": {
      "text/plain": [
       "Index(['snowfall', 'resultspeed', 'avgspeed'], dtype='object')"
      ]
     },
     "execution_count": 118,
     "metadata": {},
     "output_type": "execute_result"
    }
   ],
   "source": [
    "dfX.columns[fit.support_]"
   ]
  },
  {
   "cell_type": "markdown",
   "metadata": {},
   "source": [
    "### DecisionTreeRegressor사용하여 중요변수 파악"
   ]
  },
  {
   "cell_type": "code",
   "execution_count": 119,
   "metadata": {
    "scrolled": true
   },
   "outputs": [
    {
     "data": {
      "text/html": [
       "<div>\n",
       "<style scoped>\n",
       "    .dataframe tbody tr th:only-of-type {\n",
       "        vertical-align: middle;\n",
       "    }\n",
       "\n",
       "    .dataframe tbody tr th {\n",
       "        vertical-align: top;\n",
       "    }\n",
       "\n",
       "    .dataframe thead th {\n",
       "        text-align: right;\n",
       "    }\n",
       "</style>\n",
       "<table border=\"1\" class=\"dataframe\">\n",
       "  <thead>\n",
       "    <tr style=\"text-align: right;\">\n",
       "      <th></th>\n",
       "      <th>0</th>\n",
       "      <th>1</th>\n",
       "    </tr>\n",
       "  </thead>\n",
       "  <tbody>\n",
       "    <tr>\n",
       "      <th>3</th>\n",
       "      <td>depart</td>\n",
       "      <td>0.173305</td>\n",
       "    </tr>\n",
       "    <tr>\n",
       "      <th>14</th>\n",
       "      <td>avgspeed</td>\n",
       "      <td>0.133192</td>\n",
       "    </tr>\n",
       "    <tr>\n",
       "      <th>0</th>\n",
       "      <td>tmax</td>\n",
       "      <td>0.130417</td>\n",
       "    </tr>\n",
       "    <tr>\n",
       "      <th>12</th>\n",
       "      <td>resultspeed</td>\n",
       "      <td>0.09474</td>\n",
       "    </tr>\n",
       "    <tr>\n",
       "      <th>4</th>\n",
       "      <td>dewpoint</td>\n",
       "      <td>0.0785231</td>\n",
       "    </tr>\n",
       "    <tr>\n",
       "      <th>13</th>\n",
       "      <td>resultdir</td>\n",
       "      <td>0.062589</td>\n",
       "    </tr>\n",
       "    <tr>\n",
       "      <th>1</th>\n",
       "      <td>tmin</td>\n",
       "      <td>0.0618775</td>\n",
       "    </tr>\n",
       "  </tbody>\n",
       "</table>\n",
       "</div>"
      ],
      "text/plain": [
       "              0          1\n",
       "3        depart   0.173305\n",
       "14     avgspeed   0.133192\n",
       "0          tmax   0.130417\n",
       "12  resultspeed    0.09474\n",
       "4      dewpoint  0.0785231\n",
       "13    resultdir   0.062589\n",
       "1          tmin  0.0618775"
      ]
     },
     "execution_count": 119,
     "metadata": {},
     "output_type": "execute_result"
    }
   ],
   "source": [
    "from sklearn.metrics import mean_squared_error\n",
    "from sklearn.tree import DecisionTreeRegressor\n",
    "regr_1 = DecisionTreeRegressor()\n",
    "regr_1 = regr_1.fit(dfX, dfy)\n",
    "\n",
    "importance_dt = pd.DataFrame([dfX.columns.values, regr_1.feature_importances_]).T\n",
    "importance_dt.sort_values(1, ascending=False)[:7]"
   ]
  },
  {
   "cell_type": "code",
   "execution_count": null,
   "metadata": {},
   "outputs": [],
   "source": []
  },
  {
   "cell_type": "code",
   "execution_count": null,
   "metadata": {},
   "outputs": [],
   "source": []
  },
  {
   "cell_type": "markdown",
   "metadata": {},
   "source": [
    "### DecisionTreeRegressor 중요변수 파악"
   ]
  },
  {
   "cell_type": "code",
   "execution_count": 60,
   "metadata": {},
   "outputs": [],
   "source": [
    "def importance_dt(cniX, cniY):\n",
    "    regr_1 = DecisionTreeRegressor()\n",
    "    regr_1 = regr_1.fit(cniX, cniY) \n",
    "    importance_dt = pd.DataFrame([cniX.columns.values, regr_1.feature_importances_]).T\n",
    "    return importance_dt.sort_values(1, ascending=False)"
   ]
  },
  {
   "cell_type": "code",
   "execution_count": 61,
   "metadata": {
    "scrolled": true
   },
   "outputs": [
    {
     "data": {
      "text/html": [
       "<div>\n",
       "<style scoped>\n",
       "    .dataframe tbody tr th:only-of-type {\n",
       "        vertical-align: middle;\n",
       "    }\n",
       "\n",
       "    .dataframe tbody tr th {\n",
       "        vertical-align: top;\n",
       "    }\n",
       "\n",
       "    .dataframe thead th {\n",
       "        text-align: right;\n",
       "    }\n",
       "</style>\n",
       "<table border=\"1\" class=\"dataframe\">\n",
       "  <thead>\n",
       "    <tr style=\"text-align: right;\">\n",
       "      <th></th>\n",
       "      <th>0</th>\n",
       "      <th>1</th>\n",
       "    </tr>\n",
       "  </thead>\n",
       "  <tbody>\n",
       "    <tr>\n",
       "      <th>3</th>\n",
       "      <td>depart</td>\n",
       "      <td>0.170146</td>\n",
       "    </tr>\n",
       "    <tr>\n",
       "      <th>14</th>\n",
       "      <td>avgspeed</td>\n",
       "      <td>0.136663</td>\n",
       "    </tr>\n",
       "    <tr>\n",
       "      <th>0</th>\n",
       "      <td>tmax</td>\n",
       "      <td>0.135648</td>\n",
       "    </tr>\n",
       "    <tr>\n",
       "      <th>12</th>\n",
       "      <td>resultspeed</td>\n",
       "      <td>0.096486</td>\n",
       "    </tr>\n",
       "    <tr>\n",
       "      <th>4</th>\n",
       "      <td>dewpoint</td>\n",
       "      <td>0.0754155</td>\n",
       "    </tr>\n",
       "    <tr>\n",
       "      <th>1</th>\n",
       "      <td>tmin</td>\n",
       "      <td>0.0675969</td>\n",
       "    </tr>\n",
       "    <tr>\n",
       "      <th>13</th>\n",
       "      <td>resultdir</td>\n",
       "      <td>0.0641401</td>\n",
       "    </tr>\n",
       "    <tr>\n",
       "      <th>5</th>\n",
       "      <td>wetbulb</td>\n",
       "      <td>0.0495199</td>\n",
       "    </tr>\n",
       "    <tr>\n",
       "      <th>11</th>\n",
       "      <td>sealevel</td>\n",
       "      <td>0.0491934</td>\n",
       "    </tr>\n",
       "    <tr>\n",
       "      <th>10</th>\n",
       "      <td>stnpressure</td>\n",
       "      <td>0.0400369</td>\n",
       "    </tr>\n",
       "    <tr>\n",
       "      <th>2</th>\n",
       "      <td>tavg</td>\n",
       "      <td>0.0349907</td>\n",
       "    </tr>\n",
       "    <tr>\n",
       "      <th>9</th>\n",
       "      <td>preciptotal</td>\n",
       "      <td>0.0297485</td>\n",
       "    </tr>\n",
       "    <tr>\n",
       "      <th>6</th>\n",
       "      <td>heat</td>\n",
       "      <td>0.0269031</td>\n",
       "    </tr>\n",
       "    <tr>\n",
       "      <th>8</th>\n",
       "      <td>snowfall</td>\n",
       "      <td>0.021464</td>\n",
       "    </tr>\n",
       "    <tr>\n",
       "      <th>7</th>\n",
       "      <td>cool</td>\n",
       "      <td>0.00204776</td>\n",
       "    </tr>\n",
       "  </tbody>\n",
       "</table>\n",
       "</div>"
      ],
      "text/plain": [
       "              0           1\n",
       "3        depart    0.170146\n",
       "14     avgspeed    0.136663\n",
       "0          tmax    0.135648\n",
       "12  resultspeed    0.096486\n",
       "4      dewpoint   0.0754155\n",
       "1          tmin   0.0675969\n",
       "13    resultdir   0.0641401\n",
       "5       wetbulb   0.0495199\n",
       "11     sealevel   0.0491934\n",
       "10  stnpressure   0.0400369\n",
       "2          tavg   0.0349907\n",
       "9   preciptotal   0.0297485\n",
       "6          heat   0.0269031\n",
       "8      snowfall    0.021464\n",
       "7          cool  0.00204776"
      ]
     },
     "execution_count": 61,
     "metadata": {},
     "output_type": "execute_result"
    }
   ],
   "source": [
    "importance_dt(dfX, dfy)"
   ]
  },
  {
   "cell_type": "markdown",
   "metadata": {},
   "source": [
    "### OLS 단일 독립변수로 중요변수 파악해보기"
   ]
  },
  {
   "cell_type": "code",
   "execution_count": 62,
   "metadata": {},
   "outputs": [],
   "source": [
    "def importance_reg(indata, yname, cols):\n",
    "    scores = {}\n",
    "    for i in cols:\n",
    "        f = '{} ~ {}'.format(yname, i)\n",
    "        reg = smf.ols(formula = str(f), data = indata).fit()\n",
    "        scores[i] = reg.rsquared_adj\n",
    "        # scores[i] = reg.fvalue\n",
    "    return pd.DataFrame.from_dict(scores, orient = 'index').reset_index().sort_values(0, ascending = False)\n"
   ]
  },
  {
   "cell_type": "code",
   "execution_count": 63,
   "metadata": {
    "scrolled": true
   },
   "outputs": [
    {
     "data": {
      "text/html": [
       "<div>\n",
       "<style scoped>\n",
       "    .dataframe tbody tr th:only-of-type {\n",
       "        vertical-align: middle;\n",
       "    }\n",
       "\n",
       "    .dataframe tbody tr th {\n",
       "        vertical-align: top;\n",
       "    }\n",
       "\n",
       "    .dataframe thead th {\n",
       "        text-align: right;\n",
       "    }\n",
       "</style>\n",
       "<table border=\"1\" class=\"dataframe\">\n",
       "  <thead>\n",
       "    <tr style=\"text-align: right;\">\n",
       "      <th></th>\n",
       "      <th>index</th>\n",
       "      <th>0</th>\n",
       "    </tr>\n",
       "  </thead>\n",
       "  <tbody>\n",
       "    <tr>\n",
       "      <th>6</th>\n",
       "      <td>heat</td>\n",
       "      <td>0.015574</td>\n",
       "    </tr>\n",
       "    <tr>\n",
       "      <th>0</th>\n",
       "      <td>tmax</td>\n",
       "      <td>0.015358</td>\n",
       "    </tr>\n",
       "    <tr>\n",
       "      <th>2</th>\n",
       "      <td>tavg</td>\n",
       "      <td>0.013642</td>\n",
       "    </tr>\n",
       "    <tr>\n",
       "      <th>5</th>\n",
       "      <td>wetbulb</td>\n",
       "      <td>0.012469</td>\n",
       "    </tr>\n",
       "    <tr>\n",
       "      <th>4</th>\n",
       "      <td>dewpoint</td>\n",
       "      <td>0.011685</td>\n",
       "    </tr>\n",
       "    <tr>\n",
       "      <th>1</th>\n",
       "      <td>tmin</td>\n",
       "      <td>0.010861</td>\n",
       "    </tr>\n",
       "    <tr>\n",
       "      <th>11</th>\n",
       "      <td>sealevel</td>\n",
       "      <td>0.003600</td>\n",
       "    </tr>\n",
       "    <tr>\n",
       "      <th>10</th>\n",
       "      <td>stnpressure</td>\n",
       "      <td>0.003072</td>\n",
       "    </tr>\n",
       "    <tr>\n",
       "      <th>9</th>\n",
       "      <td>preciptotal</td>\n",
       "      <td>0.001333</td>\n",
       "    </tr>\n",
       "    <tr>\n",
       "      <th>7</th>\n",
       "      <td>cool</td>\n",
       "      <td>0.000922</td>\n",
       "    </tr>\n",
       "    <tr>\n",
       "      <th>14</th>\n",
       "      <td>avgspeed</td>\n",
       "      <td>-0.000330</td>\n",
       "    </tr>\n",
       "    <tr>\n",
       "      <th>12</th>\n",
       "      <td>resultspeed</td>\n",
       "      <td>-0.000761</td>\n",
       "    </tr>\n",
       "    <tr>\n",
       "      <th>8</th>\n",
       "      <td>snowfall</td>\n",
       "      <td>-0.000877</td>\n",
       "    </tr>\n",
       "    <tr>\n",
       "      <th>13</th>\n",
       "      <td>resultdir</td>\n",
       "      <td>-0.000912</td>\n",
       "    </tr>\n",
       "    <tr>\n",
       "      <th>3</th>\n",
       "      <td>depart</td>\n",
       "      <td>-0.001059</td>\n",
       "    </tr>\n",
       "  </tbody>\n",
       "</table>\n",
       "</div>"
      ],
      "text/plain": [
       "          index         0\n",
       "6          heat  0.015574\n",
       "0          tmax  0.015358\n",
       "2          tavg  0.013642\n",
       "5       wetbulb  0.012469\n",
       "4      dewpoint  0.011685\n",
       "1          tmin  0.010861\n",
       "11     sealevel  0.003600\n",
       "10  stnpressure  0.003072\n",
       "9   preciptotal  0.001333\n",
       "7          cool  0.000922\n",
       "14     avgspeed -0.000330\n",
       "12  resultspeed -0.000761\n",
       "8      snowfall -0.000877\n",
       "13    resultdir -0.000912\n",
       "3        depart -0.001059"
      ]
     },
     "execution_count": 63,
     "metadata": {},
     "output_type": "execute_result"
    }
   ],
   "source": [
    "importance_reg(data, 'units', w_col)"
   ]
  },
  {
   "cell_type": "code",
   "execution_count": null,
   "metadata": {},
   "outputs": [],
   "source": []
  },
  {
   "cell_type": "code",
   "execution_count": null,
   "metadata": {},
   "outputs": [],
   "source": []
  },
  {
   "cell_type": "markdown",
   "metadata": {},
   "source": [
    "### 연관성 높은 독립변수로 여러 조합으로 가장 좋은 모델 찾기"
   ]
  },
  {
   "cell_type": "code",
   "execution_count": 108,
   "metadata": {},
   "outputs": [],
   "source": [
    "from tqdm import tqdm_notebook"
   ]
  },
  {
   "cell_type": "code",
   "execution_count": 15,
   "metadata": {
    "scrolled": true
   },
   "outputs": [],
   "source": [
    "f_col =['depart','tmax','avgspeed','resultspeed','snowfall']"
   ]
  },
  {
   "cell_type": "code",
   "execution_count": 39,
   "metadata": {
    "scrolled": true
   },
   "outputs": [],
   "source": [
    "features = [] \n",
    "for f in f_col:\n",
    "    features.append(f)\n",
    "    for i in range(2, 4):\n",
    "        f2 = 'I(scale(%s**%d))'%(f, i)\n",
    "        features.append(f2)\n",
    "features = np.array(features)\n",
    "np.random.shuffle(features)"
   ]
  },
  {
   "cell_type": "code",
   "execution_count": 40,
   "metadata": {},
   "outputs": [],
   "source": [
    "subsets = chain.from_iterable(combinations(range(len(features)), k+1) for k in [1, 2, 3, 4])"
   ]
  },
  {
   "cell_type": "code",
   "execution_count": 41,
   "metadata": {},
   "outputs": [],
   "source": [
    "dX = pd.concat([dfX, dfy], axis=1)"
   ]
  },
  {
   "cell_type": "code",
   "execution_count": 42,
   "metadata": {},
   "outputs": [
    {
     "data": {
      "application/vnd.jupyter.widget-view+json": {
       "model_id": "708f738bde6246ed8325c9aaf3a7ee9f",
       "version_major": 2,
       "version_minor": 0
      },
      "text/plain": [
       "HBox(children=(IntProgress(value=0, max=4928), HTML(value='')))"
      ]
     },
     "metadata": {},
     "output_type": "display_data"
    },
    {
     "name": "stdout",
     "output_type": "stream",
     "text": [
      "\n",
      "\n"
     ]
    }
   ],
   "source": [
    "yname = 'units'\n",
    "comapre_ls = [] \n",
    "for i, subset in tqdm_notebook(enumerate(subsets), total=4928):\n",
    "    \n",
    "    f = '{} ~ '.format(yname, )\n",
    "    \n",
    "    for j, idx in enumerate(subset): \n",
    "        f+= features[idx]\n",
    "        if j != len(subset)-1:\n",
    "            f+=' + '\n",
    "         \n",
    "    model = sm.OLS.from_formula(f, dX)\n",
    "    result = model.fit()\n",
    "    \n",
    "    adj = result.rsquared_adj\n",
    "    con = result.condition_number\n",
    "    \n",
    "    comapre_ls.append([adj, con, f])\n",
    "    "
   ]
  },
  {
   "cell_type": "code",
   "execution_count": 111,
   "metadata": {
    "scrolled": true
   },
   "outputs": [
    {
     "data": {
      "text/html": [
       "<div>\n",
       "<style scoped>\n",
       "    .dataframe tbody tr th:only-of-type {\n",
       "        vertical-align: middle;\n",
       "    }\n",
       "\n",
       "    .dataframe tbody tr th {\n",
       "        vertical-align: top;\n",
       "    }\n",
       "\n",
       "    .dataframe thead th {\n",
       "        text-align: right;\n",
       "    }\n",
       "</style>\n",
       "<table border=\"1\" class=\"dataframe\">\n",
       "  <thead>\n",
       "    <tr style=\"text-align: right;\">\n",
       "      <th></th>\n",
       "      <th>0</th>\n",
       "      <th>1</th>\n",
       "      <th>2</th>\n",
       "    </tr>\n",
       "  </thead>\n",
       "  <tbody>\n",
       "    <tr>\n",
       "      <th>3787</th>\n",
       "      <td>0.034357</td>\n",
       "      <td>6077.032285</td>\n",
       "      <td>units ~ tmax + I(scale(tmax**3)) + snowfall + ...</td>\n",
       "    </tr>\n",
       "    <tr>\n",
       "      <th>3800</th>\n",
       "      <td>0.034348</td>\n",
       "      <td>6081.823783</td>\n",
       "      <td>units ~ tmax + I(scale(tmax**3)) + avgspeed + ...</td>\n",
       "    </tr>\n",
       "    <tr>\n",
       "      <th>3799</th>\n",
       "      <td>0.034232</td>\n",
       "      <td>6079.499430</td>\n",
       "      <td>units ~ tmax + I(scale(tmax**3)) + avgspeed + ...</td>\n",
       "    </tr>\n",
       "    <tr>\n",
       "      <th>3684</th>\n",
       "      <td>0.033816</td>\n",
       "      <td>6055.010339</td>\n",
       "      <td>units ~ tmax + I(scale(tmax**3)) + I(scale(avg...</td>\n",
       "    </tr>\n",
       "    <tr>\n",
       "      <th>3673</th>\n",
       "      <td>0.033707</td>\n",
       "      <td>6050.909525</td>\n",
       "      <td>units ~ tmax + I(scale(tmax**3)) + I(scale(avg...</td>\n",
       "    </tr>\n",
       "    <tr>\n",
       "      <th>3709</th>\n",
       "      <td>0.033705</td>\n",
       "      <td>6067.229247</td>\n",
       "      <td>units ~ tmax + I(scale(tmax**3)) + resultspeed...</td>\n",
       "    </tr>\n",
       "    <tr>\n",
       "      <th>3683</th>\n",
       "      <td>0.033667</td>\n",
       "      <td>6053.082084</td>\n",
       "      <td>units ~ tmax + I(scale(tmax**3)) + I(scale(avg...</td>\n",
       "    </tr>\n",
       "    <tr>\n",
       "      <th>3720</th>\n",
       "      <td>0.033572</td>\n",
       "      <td>6071.874462</td>\n",
       "      <td>units ~ tmax + I(scale(tmax**3)) + resultspeed...</td>\n",
       "    </tr>\n",
       "    <tr>\n",
       "      <th>3719</th>\n",
       "      <td>0.033505</td>\n",
       "      <td>6069.638823</td>\n",
       "      <td>units ~ tmax + I(scale(tmax**3)) + resultspeed...</td>\n",
       "    </tr>\n",
       "    <tr>\n",
       "      <th>3796</th>\n",
       "      <td>0.033167</td>\n",
       "      <td>6074.522795</td>\n",
       "      <td>units ~ tmax + I(scale(tmax**3)) + avgspeed + ...</td>\n",
       "    </tr>\n",
       "    <tr>\n",
       "      <th>2979</th>\n",
       "      <td>0.033089</td>\n",
       "      <td>6055.862092</td>\n",
       "      <td>units ~ I(scale(avgspeed**3)) + tmax + I(scale...</td>\n",
       "    </tr>\n",
       "    <tr>\n",
       "      <th>2978</th>\n",
       "      <td>0.032940</td>\n",
       "      <td>6054.103202</td>\n",
       "      <td>units ~ I(scale(avgspeed**3)) + tmax + I(scale...</td>\n",
       "    </tr>\n",
       "    <tr>\n",
       "      <th>2968</th>\n",
       "      <td>0.032933</td>\n",
       "      <td>6052.208682</td>\n",
       "      <td>units ~ I(scale(avgspeed**3)) + tmax + I(scale...</td>\n",
       "    </tr>\n",
       "    <tr>\n",
       "      <th>3668</th>\n",
       "      <td>0.032718</td>\n",
       "      <td>6034.240750</td>\n",
       "      <td>units ~ tmax + I(scale(tmax**3)) + I(scale(avg...</td>\n",
       "    </tr>\n",
       "    <tr>\n",
       "      <th>3758</th>\n",
       "      <td>0.032717</td>\n",
       "      <td>6050.688899</td>\n",
       "      <td>units ~ tmax + I(scale(tmax**3)) + I(scale(res...</td>\n",
       "    </tr>\n",
       "    <tr>\n",
       "      <th>3769</th>\n",
       "      <td>0.032700</td>\n",
       "      <td>6054.902209</td>\n",
       "      <td>units ~ tmax + I(scale(tmax**3)) + I(scale(res...</td>\n",
       "    </tr>\n",
       "    <tr>\n",
       "      <th>1256</th>\n",
       "      <td>0.032687</td>\n",
       "      <td>6060.097948</td>\n",
       "      <td>units ~ tmax + I(scale(tmax**3)) + avgspeed + ...</td>\n",
       "    </tr>\n",
       "    <tr>\n",
       "      <th>3768</th>\n",
       "      <td>0.032605</td>\n",
       "      <td>6052.927137</td>\n",
       "      <td>units ~ tmax + I(scale(tmax**3)) + I(scale(res...</td>\n",
       "    </tr>\n",
       "    <tr>\n",
       "      <th>3680</th>\n",
       "      <td>0.032564</td>\n",
       "      <td>6048.399999</td>\n",
       "      <td>units ~ tmax + I(scale(tmax**3)) + I(scale(avg...</td>\n",
       "    </tr>\n",
       "    <tr>\n",
       "      <th>2257</th>\n",
       "      <td>0.032368</td>\n",
       "      <td>6100.100638</td>\n",
       "      <td>units ~ I(scale(depart**3)) + tmax + I(scale(t...</td>\n",
       "    </tr>\n",
       "    <tr>\n",
       "      <th>3716</th>\n",
       "      <td>0.032154</td>\n",
       "      <td>6064.670416</td>\n",
       "      <td>units ~ tmax + I(scale(tmax**3)) + resultspeed...</td>\n",
       "    </tr>\n",
       "    <tr>\n",
       "      <th>3762</th>\n",
       "      <td>0.032127</td>\n",
       "      <td>6073.512669</td>\n",
       "      <td>units ~ tmax + I(scale(tmax**3)) + I(scale(res...</td>\n",
       "    </tr>\n",
       "    <tr>\n",
       "      <th>1217</th>\n",
       "      <td>0.032098</td>\n",
       "      <td>6032.769319</td>\n",
       "      <td>units ~ tmax + I(scale(tmax**3)) + I(scale(avg...</td>\n",
       "    </tr>\n",
       "    <tr>\n",
       "      <th>3777</th>\n",
       "      <td>0.032039</td>\n",
       "      <td>6069.707038</td>\n",
       "      <td>units ~ tmax + I(scale(tmax**3)) + I(scale(res...</td>\n",
       "    </tr>\n",
       "    <tr>\n",
       "      <th>3662</th>\n",
       "      <td>0.032009</td>\n",
       "      <td>6032.798133</td>\n",
       "      <td>units ~ tmax + I(scale(tmax**3)) + I(scale(avg...</td>\n",
       "    </tr>\n",
       "    <tr>\n",
       "      <th>2963</th>\n",
       "      <td>0.031865</td>\n",
       "      <td>6033.564547</td>\n",
       "      <td>units ~ I(scale(avgspeed**3)) + tmax + I(scale...</td>\n",
       "    </tr>\n",
       "    <tr>\n",
       "      <th>3784</th>\n",
       "      <td>0.031845</td>\n",
       "      <td>6055.537957</td>\n",
       "      <td>units ~ tmax + I(scale(tmax**3)) + I(scale(res...</td>\n",
       "    </tr>\n",
       "    <tr>\n",
       "      <th>2218</th>\n",
       "      <td>0.031845</td>\n",
       "      <td>6073.985964</td>\n",
       "      <td>units ~ I(scale(depart**3)) + tmax + I(scale(t...</td>\n",
       "    </tr>\n",
       "    <tr>\n",
       "      <th>3773</th>\n",
       "      <td>0.031839</td>\n",
       "      <td>6051.686470</td>\n",
       "      <td>units ~ tmax + I(scale(tmax**3)) + I(scale(res...</td>\n",
       "    </tr>\n",
       "    <tr>\n",
       "      <th>3713</th>\n",
       "      <td>0.031815</td>\n",
       "      <td>6078.868612</td>\n",
       "      <td>units ~ tmax + I(scale(tmax**3)) + resultspeed...</td>\n",
       "    </tr>\n",
       "    <tr>\n",
       "      <th>...</th>\n",
       "      <td>...</td>\n",
       "      <td>...</td>\n",
       "      <td>...</td>\n",
       "    </tr>\n",
       "    <tr>\n",
       "      <th>3370</th>\n",
       "      <td>-0.003805</td>\n",
       "      <td>31.641617</td>\n",
       "      <td>units ~ I(scale(avgspeed**3)) + I(scale(avgspe...</td>\n",
       "    </tr>\n",
       "    <tr>\n",
       "      <th>1597</th>\n",
       "      <td>-0.003807</td>\n",
       "      <td>32.240177</td>\n",
       "      <td>units ~ I(scale(avgspeed**2)) + resultspeed + ...</td>\n",
       "    </tr>\n",
       "    <tr>\n",
       "      <th>1112</th>\n",
       "      <td>-0.003809</td>\n",
       "      <td>23.836667</td>\n",
       "      <td>units ~ I(scale(avgspeed**3)) + resultspeed + ...</td>\n",
       "    </tr>\n",
       "    <tr>\n",
       "      <th>2077</th>\n",
       "      <td>-0.003809</td>\n",
       "      <td>8.201779</td>\n",
       "      <td>units ~ I(scale(depart**3)) + I(scale(avgspeed...</td>\n",
       "    </tr>\n",
       "    <tr>\n",
       "      <th>1729</th>\n",
       "      <td>-0.003812</td>\n",
       "      <td>23.891314</td>\n",
       "      <td>units ~ resultspeed + depart + snowfall + I(sc...</td>\n",
       "    </tr>\n",
       "    <tr>\n",
       "      <th>1599</th>\n",
       "      <td>-0.003850</td>\n",
       "      <td>31.727767</td>\n",
       "      <td>units ~ I(scale(avgspeed**2)) + resultspeed + ...</td>\n",
       "    </tr>\n",
       "    <tr>\n",
       "      <th>1140</th>\n",
       "      <td>-0.003865</td>\n",
       "      <td>20.076696</td>\n",
       "      <td>units ~ I(scale(avgspeed**3)) + depart + snowf...</td>\n",
       "    </tr>\n",
       "    <tr>\n",
       "      <th>4733</th>\n",
       "      <td>-0.003870</td>\n",
       "      <td>137.685954</td>\n",
       "      <td>units ~ resultspeed + I(scale(resultspeed**2))...</td>\n",
       "    </tr>\n",
       "    <tr>\n",
       "      <th>1092</th>\n",
       "      <td>-0.003874</td>\n",
       "      <td>24.590322</td>\n",
       "      <td>units ~ I(scale(avgspeed**3)) + resultspeed + ...</td>\n",
       "    </tr>\n",
       "    <tr>\n",
       "      <th>4676</th>\n",
       "      <td>-0.003931</td>\n",
       "      <td>141.333830</td>\n",
       "      <td>units ~ resultspeed + depart + I(scale(results...</td>\n",
       "    </tr>\n",
       "    <tr>\n",
       "      <th>1094</th>\n",
       "      <td>-0.003934</td>\n",
       "      <td>22.330981</td>\n",
       "      <td>units ~ I(scale(avgspeed**3)) + resultspeed + ...</td>\n",
       "    </tr>\n",
       "    <tr>\n",
       "      <th>2618</th>\n",
       "      <td>-0.003934</td>\n",
       "      <td>31.371456</td>\n",
       "      <td>units ~ I(scale(depart**3)) + I(scale(avgspeed...</td>\n",
       "    </tr>\n",
       "    <tr>\n",
       "      <th>4489</th>\n",
       "      <td>-0.003945</td>\n",
       "      <td>31.747146</td>\n",
       "      <td>units ~ I(scale(avgspeed**2)) + resultspeed + ...</td>\n",
       "    </tr>\n",
       "    <tr>\n",
       "      <th>2113</th>\n",
       "      <td>-0.003995</td>\n",
       "      <td>23.855370</td>\n",
       "      <td>units ~ I(scale(depart**3)) + I(scale(avgspeed...</td>\n",
       "    </tr>\n",
       "    <tr>\n",
       "      <th>3454</th>\n",
       "      <td>-0.003998</td>\n",
       "      <td>22.331961</td>\n",
       "      <td>units ~ I(scale(avgspeed**3)) + resultspeed + ...</td>\n",
       "    </tr>\n",
       "    <tr>\n",
       "      <th>1806</th>\n",
       "      <td>-0.004018</td>\n",
       "      <td>20.006379</td>\n",
       "      <td>units ~ depart + I(scale(resultspeed**2)) + sn...</td>\n",
       "    </tr>\n",
       "    <tr>\n",
       "      <th>4586</th>\n",
       "      <td>-0.004040</td>\n",
       "      <td>59.785623</td>\n",
       "      <td>units ~ I(scale(avgspeed**2)) + depart + snowf...</td>\n",
       "    </tr>\n",
       "    <tr>\n",
       "      <th>1821</th>\n",
       "      <td>-0.004052</td>\n",
       "      <td>19.998335</td>\n",
       "      <td>units ~ depart + I(scale(resultspeed**3)) + sn...</td>\n",
       "    </tr>\n",
       "    <tr>\n",
       "      <th>4678</th>\n",
       "      <td>-0.004052</td>\n",
       "      <td>141.327855</td>\n",
       "      <td>units ~ resultspeed + depart + I(scale(results...</td>\n",
       "    </tr>\n",
       "    <tr>\n",
       "      <th>4683</th>\n",
       "      <td>-0.004178</td>\n",
       "      <td>38.808533</td>\n",
       "      <td>units ~ resultspeed + depart + I(scale(results...</td>\n",
       "    </tr>\n",
       "    <tr>\n",
       "      <th>3551</th>\n",
       "      <td>-0.004286</td>\n",
       "      <td>34.279249</td>\n",
       "      <td>units ~ I(scale(avgspeed**3)) + depart + snowf...</td>\n",
       "    </tr>\n",
       "    <tr>\n",
       "      <th>4698</th>\n",
       "      <td>-0.004378</td>\n",
       "      <td>24.444201</td>\n",
       "      <td>units ~ resultspeed + depart + I(scale(results...</td>\n",
       "    </tr>\n",
       "    <tr>\n",
       "      <th>3333</th>\n",
       "      <td>-0.004488</td>\n",
       "      <td>67.512004</td>\n",
       "      <td>units ~ I(scale(avgspeed**3)) + I(scale(avgspe...</td>\n",
       "    </tr>\n",
       "    <tr>\n",
       "      <th>3313</th>\n",
       "      <td>-0.004548</td>\n",
       "      <td>69.393946</td>\n",
       "      <td>units ~ I(scale(avgspeed**3)) + I(scale(avgspe...</td>\n",
       "    </tr>\n",
       "    <tr>\n",
       "      <th>3522</th>\n",
       "      <td>-0.004551</td>\n",
       "      <td>22.348301</td>\n",
       "      <td>units ~ I(scale(avgspeed**3)) + depart + I(sca...</td>\n",
       "    </tr>\n",
       "    <tr>\n",
       "      <th>3315</th>\n",
       "      <td>-0.004577</td>\n",
       "      <td>69.137660</td>\n",
       "      <td>units ~ I(scale(avgspeed**3)) + I(scale(avgspe...</td>\n",
       "    </tr>\n",
       "    <tr>\n",
       "      <th>3361</th>\n",
       "      <td>-0.004663</td>\n",
       "      <td>31.606460</td>\n",
       "      <td>units ~ I(scale(avgspeed**3)) + I(scale(avgspe...</td>\n",
       "    </tr>\n",
       "    <tr>\n",
       "      <th>4803</th>\n",
       "      <td>-0.004698</td>\n",
       "      <td>30.278975</td>\n",
       "      <td>units ~ depart + I(scale(resultspeed**2)) + I(...</td>\n",
       "    </tr>\n",
       "    <tr>\n",
       "      <th>4480</th>\n",
       "      <td>-0.004832</td>\n",
       "      <td>32.258714</td>\n",
       "      <td>units ~ I(scale(avgspeed**2)) + resultspeed + ...</td>\n",
       "    </tr>\n",
       "    <tr>\n",
       "      <th>3445</th>\n",
       "      <td>-0.004897</td>\n",
       "      <td>24.598602</td>\n",
       "      <td>units ~ I(scale(avgspeed**3)) + resultspeed + ...</td>\n",
       "    </tr>\n",
       "  </tbody>\n",
       "</table>\n",
       "<p>4928 rows × 3 columns</p>\n",
       "</div>"
      ],
      "text/plain": [
       "             0            1                                                  2\n",
       "3787  0.034357  6077.032285  units ~ tmax + I(scale(tmax**3)) + snowfall + ...\n",
       "3800  0.034348  6081.823783  units ~ tmax + I(scale(tmax**3)) + avgspeed + ...\n",
       "3799  0.034232  6079.499430  units ~ tmax + I(scale(tmax**3)) + avgspeed + ...\n",
       "3684  0.033816  6055.010339  units ~ tmax + I(scale(tmax**3)) + I(scale(avg...\n",
       "3673  0.033707  6050.909525  units ~ tmax + I(scale(tmax**3)) + I(scale(avg...\n",
       "3709  0.033705  6067.229247  units ~ tmax + I(scale(tmax**3)) + resultspeed...\n",
       "3683  0.033667  6053.082084  units ~ tmax + I(scale(tmax**3)) + I(scale(avg...\n",
       "3720  0.033572  6071.874462  units ~ tmax + I(scale(tmax**3)) + resultspeed...\n",
       "3719  0.033505  6069.638823  units ~ tmax + I(scale(tmax**3)) + resultspeed...\n",
       "3796  0.033167  6074.522795  units ~ tmax + I(scale(tmax**3)) + avgspeed + ...\n",
       "2979  0.033089  6055.862092  units ~ I(scale(avgspeed**3)) + tmax + I(scale...\n",
       "2978  0.032940  6054.103202  units ~ I(scale(avgspeed**3)) + tmax + I(scale...\n",
       "2968  0.032933  6052.208682  units ~ I(scale(avgspeed**3)) + tmax + I(scale...\n",
       "3668  0.032718  6034.240750  units ~ tmax + I(scale(tmax**3)) + I(scale(avg...\n",
       "3758  0.032717  6050.688899  units ~ tmax + I(scale(tmax**3)) + I(scale(res...\n",
       "3769  0.032700  6054.902209  units ~ tmax + I(scale(tmax**3)) + I(scale(res...\n",
       "1256  0.032687  6060.097948  units ~ tmax + I(scale(tmax**3)) + avgspeed + ...\n",
       "3768  0.032605  6052.927137  units ~ tmax + I(scale(tmax**3)) + I(scale(res...\n",
       "3680  0.032564  6048.399999  units ~ tmax + I(scale(tmax**3)) + I(scale(avg...\n",
       "2257  0.032368  6100.100638  units ~ I(scale(depart**3)) + tmax + I(scale(t...\n",
       "3716  0.032154  6064.670416  units ~ tmax + I(scale(tmax**3)) + resultspeed...\n",
       "3762  0.032127  6073.512669  units ~ tmax + I(scale(tmax**3)) + I(scale(res...\n",
       "1217  0.032098  6032.769319  units ~ tmax + I(scale(tmax**3)) + I(scale(avg...\n",
       "3777  0.032039  6069.707038  units ~ tmax + I(scale(tmax**3)) + I(scale(res...\n",
       "3662  0.032009  6032.798133  units ~ tmax + I(scale(tmax**3)) + I(scale(avg...\n",
       "2963  0.031865  6033.564547  units ~ I(scale(avgspeed**3)) + tmax + I(scale...\n",
       "3784  0.031845  6055.537957  units ~ tmax + I(scale(tmax**3)) + I(scale(res...\n",
       "2218  0.031845  6073.985964  units ~ I(scale(depart**3)) + tmax + I(scale(t...\n",
       "3773  0.031839  6051.686470  units ~ tmax + I(scale(tmax**3)) + I(scale(res...\n",
       "3713  0.031815  6078.868612  units ~ tmax + I(scale(tmax**3)) + resultspeed...\n",
       "...        ...          ...                                                ...\n",
       "3370 -0.003805    31.641617  units ~ I(scale(avgspeed**3)) + I(scale(avgspe...\n",
       "1597 -0.003807    32.240177  units ~ I(scale(avgspeed**2)) + resultspeed + ...\n",
       "1112 -0.003809    23.836667  units ~ I(scale(avgspeed**3)) + resultspeed + ...\n",
       "2077 -0.003809     8.201779  units ~ I(scale(depart**3)) + I(scale(avgspeed...\n",
       "1729 -0.003812    23.891314  units ~ resultspeed + depart + snowfall + I(sc...\n",
       "1599 -0.003850    31.727767  units ~ I(scale(avgspeed**2)) + resultspeed + ...\n",
       "1140 -0.003865    20.076696  units ~ I(scale(avgspeed**3)) + depart + snowf...\n",
       "4733 -0.003870   137.685954  units ~ resultspeed + I(scale(resultspeed**2))...\n",
       "1092 -0.003874    24.590322  units ~ I(scale(avgspeed**3)) + resultspeed + ...\n",
       "4676 -0.003931   141.333830  units ~ resultspeed + depart + I(scale(results...\n",
       "1094 -0.003934    22.330981  units ~ I(scale(avgspeed**3)) + resultspeed + ...\n",
       "2618 -0.003934    31.371456  units ~ I(scale(depart**3)) + I(scale(avgspeed...\n",
       "4489 -0.003945    31.747146  units ~ I(scale(avgspeed**2)) + resultspeed + ...\n",
       "2113 -0.003995    23.855370  units ~ I(scale(depart**3)) + I(scale(avgspeed...\n",
       "3454 -0.003998    22.331961  units ~ I(scale(avgspeed**3)) + resultspeed + ...\n",
       "1806 -0.004018    20.006379  units ~ depart + I(scale(resultspeed**2)) + sn...\n",
       "4586 -0.004040    59.785623  units ~ I(scale(avgspeed**2)) + depart + snowf...\n",
       "1821 -0.004052    19.998335  units ~ depart + I(scale(resultspeed**3)) + sn...\n",
       "4678 -0.004052   141.327855  units ~ resultspeed + depart + I(scale(results...\n",
       "4683 -0.004178    38.808533  units ~ resultspeed + depart + I(scale(results...\n",
       "3551 -0.004286    34.279249  units ~ I(scale(avgspeed**3)) + depart + snowf...\n",
       "4698 -0.004378    24.444201  units ~ resultspeed + depart + I(scale(results...\n",
       "3333 -0.004488    67.512004  units ~ I(scale(avgspeed**3)) + I(scale(avgspe...\n",
       "3313 -0.004548    69.393946  units ~ I(scale(avgspeed**3)) + I(scale(avgspe...\n",
       "3522 -0.004551    22.348301  units ~ I(scale(avgspeed**3)) + depart + I(sca...\n",
       "3315 -0.004577    69.137660  units ~ I(scale(avgspeed**3)) + I(scale(avgspe...\n",
       "3361 -0.004663    31.606460  units ~ I(scale(avgspeed**3)) + I(scale(avgspe...\n",
       "4803 -0.004698    30.278975  units ~ depart + I(scale(resultspeed**2)) + I(...\n",
       "4480 -0.004832    32.258714  units ~ I(scale(avgspeed**2)) + resultspeed + ...\n",
       "3445 -0.004897    24.598602  units ~ I(scale(avgspeed**3)) + resultspeed + ...\n",
       "\n",
       "[4928 rows x 3 columns]"
      ]
     },
     "execution_count": 111,
     "metadata": {},
     "output_type": "execute_result"
    }
   ],
   "source": [
    "pd.DataFrame(comapre_ls).sort_values(0, ascending=False)"
   ]
  },
  {
   "cell_type": "markdown",
   "metadata": {},
   "source": [
    "## 아무리 조합하고 해봤자 날씨 데이터로는 좋은결과를 얻을수 없다"
   ]
  },
  {
   "cell_type": "code",
   "execution_count": null,
   "metadata": {},
   "outputs": [],
   "source": []
  }
 ],
 "metadata": {
  "kernelspec": {
   "display_name": "Python 3",
   "language": "python",
   "name": "python3"
  },
  "language_info": {
   "codemirror_mode": {
    "name": "ipython",
    "version": 3
   },
   "file_extension": ".py",
   "mimetype": "text/x-python",
   "name": "python",
   "nbconvert_exporter": "python",
   "pygments_lexer": "ipython3",
   "version": "3.6.5"
  }
 },
 "nbformat": 4,
 "nbformat_minor": 2
}
